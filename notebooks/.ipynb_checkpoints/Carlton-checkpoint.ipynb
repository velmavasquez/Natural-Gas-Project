{
 "cells": [
  {
   "cell_type": "code",
   "execution_count": null,
   "metadata": {},
   "outputs": [],
   "source": [
    "import pandas as pd\n",
    "\n",
    "ccml = \"../data/rawdata/ccml.xlsx\"\n",
    "county_codes = pd.read_excel(open(ccml, 'rb'), sheet_name = 'County_Codes', header = 0)\n",
    "county_codes.head(5)\n"
   ]
  },
  {
   "cell_type": "code",
   "execution_count": null,
   "metadata": {},
   "outputs": [],
   "source": [
    "# Get column names\n",
    "column_names = county_codes.columns\n",
    "print(column_names)"
   ]
  },
  {
   "cell_type": "code",
   "execution_count": null,
   "metadata": {},
   "outputs": [],
   "source": [
    "# Get column data types\n",
    "county_codes.dtypes"
   ]
  },
  {
   "cell_type": "code",
   "execution_count": null,
   "metadata": {},
   "outputs": [],
   "source": [
    "#Open the worksheet oil and gas county production\n",
    "oilgascounty = \"../data/rawdata/oilgascounty.xls\"\n",
    "oilgas_county = pd.read_excel(open(oilgascounty, 'rb'), sheet_name = 'oilgascounty', header = 0)\n",
    "oilgas_county.head(5)"
   ]
  },
  {
   "cell_type": "code",
   "execution_count": null,
   "metadata": {},
   "outputs": [],
   "source": [
    "#verify data types\n",
    "oilgas_county.dtypes"
   ]
  },
  {
   "cell_type": "code",
   "execution_count": null,
   "metadata": {},
   "outputs": [],
   "source": [
    "print(oilgas_county.columns)"
   ]
  },
  {
   "cell_type": "code",
   "execution_count": null,
   "metadata": {},
   "outputs": [],
   "source": [
    "# delete nonessential columns\n"
   ]
  },
  {
   "cell_type": "code",
   "execution_count": null,
   "metadata": {},
   "outputs": [],
   "source": [
    "#Open the worksheet Anadarko Region production\n",
    "dpr_data = \"../data/rawdata/dpr-data.xlsx\"\n",
    "dpr_anadarko = pd.read_excel(open(dpr_data, 'rb'), sheet_name = 'Anadarko Region', header = 1)\n",
    "dpr_anadarko.head(5)"
   ]
  },
  {
   "cell_type": "code",
   "execution_count": null,
   "metadata": {},
   "outputs": [],
   "source": [
    "dpr_anadarko.dtypes"
   ]
  },
  {
   "cell_type": "code",
   "execution_count": null,
   "metadata": {},
   "outputs": [],
   "source": [
    "# Open the worksheet Appalachia Region production\n",
    "dpr_appalachia = pd.read_excel(open(dpr_data, 'rb'), sheet_name = 'Appalachia Region', header = 1)\n",
    "dpr_appalachia.head(5)"
   ]
  },
  {
   "cell_type": "code",
   "execution_count": null,
   "metadata": {},
   "outputs": [],
   "source": [
    "dpr_appalachia.dtypes"
   ]
  },
  {
   "cell_type": "code",
   "execution_count": null,
   "metadata": {},
   "outputs": [],
   "source": [
    "# Open the worksheet Bakken Region production\n",
    "dpr_bakken = pd.read_excel(open(dpr_data, 'rb'), sheet_name = 'Bakken Region', header = 1)\n",
    "dpr_bakken.head(5)"
   ]
  },
  {
   "cell_type": "code",
   "execution_count": null,
   "metadata": {},
   "outputs": [],
   "source": [
    "dpr_bakken.dtypes"
   ]
  },
  {
   "cell_type": "code",
   "execution_count": null,
   "metadata": {},
   "outputs": [],
   "source": [
    "# Open the worksheet Eagle Ford Region production\n",
    "dpr_eagle_ford = pd.read_excel(open(dpr_data, 'rb'), sheet_name = 'Eagle Ford Region', header = 1)\n",
    "dpr_eagle_ford.head(5)"
   ]
  },
  {
   "cell_type": "code",
   "execution_count": null,
   "metadata": {},
   "outputs": [],
   "source": [
    "dpr_eagle_ford.dtypes"
   ]
  },
  {
   "cell_type": "code",
   "execution_count": null,
   "metadata": {},
   "outputs": [],
   "source": [
    "# Open the worksheet Haynesville Region production\n",
    "dpr_haynesville = pd.read_excel(open(dpr_data, 'rb'), sheet_name = 'Haynesville Region', header = 1)\n",
    "dpr_haynesville.head(5)"
   ]
  },
  {
   "cell_type": "code",
   "execution_count": null,
   "metadata": {},
   "outputs": [],
   "source": [
    "dpr_haynesville.dtypes"
   ]
  },
  {
   "cell_type": "code",
   "execution_count": null,
   "metadata": {},
   "outputs": [],
   "source": [
    "# Open the worksheet Niobrara Region production\n",
    "dpr_niobrara = pd.read_excel(open(dpr_data, 'rb'), sheet_name = 'Niobrara Region', header = 1)\n",
    "dpr_niobrara.head(5)"
   ]
  },
  {
   "cell_type": "code",
   "execution_count": null,
   "metadata": {},
   "outputs": [],
   "source": [
    "dpr_niobrara.dtypes"
   ]
  },
  {
   "cell_type": "code",
   "execution_count": null,
   "metadata": {},
   "outputs": [],
   "source": [
    "# Open the worksheet Permian Region production\n",
    "dpr_permian = pd.read_excel(open(dpr_data, 'rb'), sheet_name = 'Permian Region', header = 1)\n",
    "dpr_permian.head(5)"
   ]
  },
  {
   "cell_type": "code",
   "execution_count": null,
   "metadata": {},
   "outputs": [],
   "source": [
    "dpr_permian.dtypes"
   ]
  },
  {
   "cell_type": "code",
   "execution_count": null,
   "metadata": {},
   "outputs": [],
   "source": [
    "# Open the worksheet Region Counties\n",
    "dpr_region_counties = pd.read_excel(open(dpr_data, 'rb'), sheet_name = 'RegionCounties', header = 0)\n",
    "dpr_region_counties.head(5)"
   ]
  },
  {
   "cell_type": "code",
   "execution_count": null,
   "metadata": {},
   "outputs": [],
   "source": [
    "dpr_region_counties.dtypes"
   ]
  },
  {
   "cell_type": "code",
   "execution_count": null,
   "metadata": {},
   "outputs": [],
   "source": []
  }
 ],
 "metadata": {
  "kernelspec": {
   "display_name": "Python 3",
   "language": "python",
   "name": "python3"
  },
  "language_info": {
   "codemirror_mode": {
    "name": "ipython",
    "version": 3
   },
   "file_extension": ".py",
   "mimetype": "text/x-python",
   "name": "python",
   "nbconvert_exporter": "python",
   "pygments_lexer": "ipython3",
   "version": "3.7.1"
  }
 },
 "nbformat": 4,
 "nbformat_minor": 2
}
