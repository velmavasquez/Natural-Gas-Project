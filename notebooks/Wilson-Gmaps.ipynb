{
 "cells": [
  {
   "cell_type": "code",
   "execution_count": 1,
   "metadata": {},
   "outputs": [],
   "source": [
    "import json\n",
    "import requests\n",
    "import pandas as pd\n",
    "import numpy as np\n",
    "import matplotlib.pyplot as plt\n",
    "#import openweathermapy.core as owm\n",
    "#import os\n",
    "#import csv\n",
    "import seaborn as sns\n",
    "\n",
    "import gmaps\n",
    "import gmaps.geojson_geometries\n",
    "\n",
    "from Project_Gas_Library import f_EIA_ListSeries, f_EIA_ExtractData, f_PlotData, f_EIA_PlotData, f_EIA_PlotData_Mod,\\\n",
    "f_WorldWeather_ExtractData, f_PlotData, f_Census_ExtractData, calculate_color, f_strToDate, f_EIA_ExtractData_Range, \\\n",
    "f_EIA_PlotData_Range, f_EIA_PlotData_Mod_Range, f_EIA_PlotData_Stack_Range, adf, RMSE, calculate_color_1\n",
    "\n",
    "from datetime import datetime\n",
    "from dateutil.relativedelta import relativedelta\n",
    "from calendar import monthrange\n",
    "\n",
    "from config import worldweather_key, g_key, EIA_key, census_key\n",
    "\n",
    "from matplotlib.pyplot import cm\n",
    "from citipy import citipy\n",
    "from pprint import pprint\n",
    "\n",
    "from matplotlib.cm import viridis\n",
    "from matplotlib.colors import to_hex\n",
    "\n",
    "from census import Census\n",
    "\n",
    "#from matplotlib.cm import pink"
   ]
  },
  {
   "cell_type": "code",
   "execution_count": 23,
   "metadata": {},
   "outputs": [],
   "source": [
    "ProdYear = 2011"
   ]
  },
  {
   "cell_type": "code",
   "execution_count": 24,
   "metadata": {},
   "outputs": [],
   "source": [
    "file = \"county_production.csv\"\n",
    "df = pd.read_csv(file)\n",
    "df = df[[\"State\",\"County_Name\",\"Year\",\"Mscf\"]]\n",
    "df[\"County_Name\"]=df['County_Name'].str.replace(' County','',regex=True)\n",
    "df_county_year=df.loc[df[\"Year\"]==ProdYear,[\"State\",\"County_Name\",\"Mscf\"]]\n",
    "#df_county_year"
   ]
  },
  {
   "cell_type": "code",
   "execution_count": 4,
   "metadata": {},
   "outputs": [
    {
     "data": {
      "application/vnd.jupyter.widget-view+json": {
       "model_id": "3096ef91883041e8aa915d9845460b60",
       "version_major": 2,
       "version_minor": 0
      },
      "text/plain": [
       "Figure(layout=FigureLayout(height='420px'))"
      ]
     },
     "metadata": {},
     "output_type": "display_data"
    }
   ],
   "source": [
    "gmaps.configure(api_key=g_key)\n",
    "gmap_geo_us_counties = gmaps.geojson_geometries.load_geometry('us-counties')\n",
    "\n",
    "fig = gmaps.figure()\n",
    "\n",
    "gmap_geo_layer = gmaps.geojson_layer(gmap_geo_us_counties)\n",
    "fig.add_layer(gmap_geo_layer)\n",
    "fig"
   ]
  },
  {
   "cell_type": "code",
   "execution_count": 25,
   "metadata": {},
   "outputs": [
    {
     "data": {
      "application/vnd.jupyter.widget-view+json": {
       "model_id": "063ce786fb6e4347a1ace790a231dc72",
       "version_major": 2,
       "version_minor": 0
      },
      "text/plain": [
       "Figure(layout=FigureLayout(height='420px'))"
      ]
     },
     "metadata": {},
     "output_type": "display_data"
    }
   ],
   "source": [
    "vx = list(df_county_year[\"County_Name\"])\n",
    "vy  = list(df_county_year[\"Mscf\"])\n",
    "dict_par = dict(zip(vx,vy))\n",
    "\n",
    "min_par = np.power(min(list(df[\"Mscf\"])),0.10)\n",
    "max_par = np.power(max(list(df[\"Mscf\"])),0.10)\n",
    "\n",
    "#min_par = min(vy)\n",
    "#max_par = max(vy)\n",
    "\n",
    "colors = []\n",
    "for feature in gmap_geo_us_counties['features']:\n",
    "    county_name = feature['properties']['NAME']\n",
    "    try:\n",
    "        par = np.power(dict_par[county_name],0.10)\n",
    "        #par = dict_par[county_name]\n",
    "        color = calculate_color_1(par,min_par,max_par)\n",
    "    except KeyError:\n",
    "        # no value for that county: return default color\n",
    "        color = (0, 0, 0, 0.3)\n",
    "    colors.append(color)\n",
    "\n",
    "fig = gmaps.figure()\n",
    "poverty_layer = gmaps.geojson_layer(gmap_geo_us_counties,fill_color=colors,stroke_color=colors,fill_opacity=0.8)\n",
    "#gini_layer = gmaps.geojson_layer(x,fill_color=colors,stroke_color=colors)\n",
    "fig.add_layer(poverty_layer)\n",
    "fig"
   ]
  },
  {
   "cell_type": "code",
   "execution_count": null,
   "metadata": {},
   "outputs": [],
   "source": [
    "file = \"Data/cleandata/dpr_region_counties.csv\"\n",
    "df_region_counties = pd.read_csv(file)\n",
    "df.head()\n",
    "\n",
    "file = \"Data/cleandata/dpr_anadarko.csv\"\n",
    "df_anadarko = pd.read_csv(file)\n",
    "df_anadarko = df_anadarko.rename(columns={'Month': 'Date'})\n",
    "df_anadarko['Date'] = pd.to_datetime(df_anadarko['Date'])\n",
    "\n",
    "file = \"Data/cleandata/dpr_appalachia.csv\"\n",
    "df_appalachia = pd.read_csv(file)\n",
    "df_appalachia = df_appalachia.rename(columns={'Month': 'Date'})\n",
    "df_appalachia['Date'] = pd.to_datetime(df_appalachia['Date'])\n",
    "\n",
    "file = \"Data/cleandata/dpr_bakken.csv\"\n",
    "df_bakken = pd.read_csv(file)\n",
    "df_bakken = df_bakken.rename(columns={'Month': 'Date'})\n",
    "df_bakken['Date'] = pd.to_datetime(df_bakken['Date'])\n",
    "\n",
    "file = \"Data/cleandata/dpr_eagle_ford.csv\"\n",
    "df_eagle_ford = pd.read_csv(file)\n",
    "df_eagle_ford = df_eagle_ford.rename(columns={'Month': 'Date'})\n",
    "df_eagle_ford['Date'] = pd.to_datetime(df_eagle_ford['Date'])\n",
    "\n",
    "file = \"Data/cleandata/dpr_haynesville.csv\"\n",
    "df_haynesville = pd.read_csv(file)\n",
    "df_haynesville = df_haynesville.rename(columns={'Month': 'Date'})\n",
    "df_haynesville['Date'] = pd.to_datetime(df_haynesville['Date'])\n",
    "\n",
    "file = \"Data/cleandata/dpr_niobrara.csv\"\n",
    "df_niobrara = pd.read_csv(file)\n",
    "df_niobrara = df_niobrara.rename(columns={'Month': 'Date'})\n",
    "df_niobrara['Date'] = pd.to_datetime(df_niobrara['Date'])\n",
    "\n",
    "file = \"Data/cleandata/dpr_permian.csv\"\n",
    "df_permian = pd.read_csv(file)\n",
    "df_permian = df_permian.rename(columns={'Month': 'Date'})\n",
    "df_permian['Date'] = pd.to_datetime(df_permian['Date'])"
   ]
  },
  {
   "cell_type": "code",
   "execution_count": null,
   "metadata": {},
   "outputs": [],
   "source": [
    "df_permian.head()"
   ]
  },
  {
   "cell_type": "code",
   "execution_count": null,
   "metadata": {},
   "outputs": [],
   "source": [
    "df_region_counties.head()"
   ]
  },
  {
   "cell_type": "code",
   "execution_count": null,
   "metadata": {},
   "outputs": [],
   "source": [
    "Year = 2012\n",
    "Month = 2\n",
    "\n",
    "prod =df_permian.loc[df_permian[\"Date\"]==datetime(Year,Month,1)][\"Total production.1\"].values[0]"
   ]
  },
  {
   "cell_type": "code",
   "execution_count": null,
   "metadata": {},
   "outputs": [],
   "source": [
    "lcounties = df_region_counties.loc[df_region_counties[\"Region\"]==\"Permian Region\"][\"County\"].tolist()\n",
    "\n",
    "elements = len(lcounties)\n",
    "number = prod/elements\n",
    "\n",
    "lprod = [number] * elements\n",
    "\n",
    "avg_prod_max = 0\n",
    "avg_prod_min = 0\n",
    "\n",
    "for j in range(2012,2019,1):\n",
    "    Year = j\n",
    "    Month = 6    \n",
    "    for i in range(0,7,1):        \n",
    "        if i ==0:\n",
    "            df = df_anadarko\n",
    "            str_search = \"Anadarko Region\"\n",
    "        elif i==1:\n",
    "            df = df_appalachia\n",
    "            str_search = \"Appalachia Region\"\n",
    "        elif i==2:\n",
    "            df = df_bakken\n",
    "            str_search = \"Bakken Region\"\n",
    "        elif i==3:\n",
    "            df = df_eagle_ford\n",
    "            str_search = \"Eagle Ford Region\"\n",
    "        elif i==4:\n",
    "            df = df_haynesville\n",
    "            str_search = \"Haynesville Region\"\n",
    "        elif i==5:\n",
    "            df = df_niobrara\n",
    "            str_search = \"Niobrara Region\"\n",
    "        elif i==6:\n",
    "            df = df_permian\n",
    "            str_search = \"Permian Region\"\n",
    "            \n",
    "        prod = df.loc[df[\"Date\"]==datetime(Year,Month,1)][\"Total production.1\"].values[0]\n",
    "        lcounties = df_region_counties.loc[df_region_counties[\"Region\"]==str_search][\"County\"].tolist() \n",
    "\n",
    "        NumCounties = len(lcounties)\n",
    "        avg_prod = prod/NumCounties\n",
    "\n",
    "        if (j == 2012) & (i==0) :\n",
    "            avg_prod_max = avg_prod\n",
    "            avg_prod_min = avg_prod\n",
    "        else:            \n",
    "            if avg_prod_max < avg_prod:\n",
    "                avg_prod_max = avg_prod\n",
    "            \n",
    "            if avg_prod_min > avg_prod:\n",
    "                avg_prod_min = avg_prod"
   ]
  },
  {
   "cell_type": "code",
   "execution_count": null,
   "metadata": {},
   "outputs": [],
   "source": [
    "Year = 2018\n",
    "Month = 6\n",
    "\n",
    "list_counties = []\n",
    "list_prod = []\n",
    "avg_prod_max = 0\n",
    "\n",
    "for i in range(0,7,1):\n",
    "    if i ==0:\n",
    "        df = df_anadarko\n",
    "        str_search = \"Anadarko Region\"\n",
    "    elif i==1:\n",
    "        df = df_appalachia\n",
    "        str_search = \"Appalachia Region\"\n",
    "    elif i==2:\n",
    "        df = df_bakken\n",
    "        str_search = \"Bakken Region\"\n",
    "    elif i==3:\n",
    "        df = df_eagle_ford\n",
    "        str_search = \"Eagle Ford Region\"\n",
    "    elif i==4:\n",
    "        df = df_haynesville\n",
    "        str_search = \"Haynesville Region\"\n",
    "    elif i==5:\n",
    "        df = df_niobrara\n",
    "        str_search = \"Niobrara Region\"\n",
    "    elif i==6:\n",
    "        df = df_permian\n",
    "        str_search = \"Permian Region\"\n",
    "        \n",
    "    prod =df.loc[df[\"Date\"]==datetime(Year,Month,1)][\"Total production.1\"].values[0]\n",
    "    lcounties = df_region_counties.loc[df_region_counties[\"Region\"]==str_search][\"County\"].tolist()\n",
    "    \n",
    "    NumCounties = len(lcounties)\n",
    "    avg_prod = prod/NumCounties\n",
    "\n",
    "    lprod = [avg_prod] * NumCounties\n",
    "    \n",
    "    list_counties.extend(lcounties)\n",
    "    list_prod.extend(lprod)\n",
    "\n",
    "\n",
    "dict_par = dict(zip(list_counties,list_prod))\n",
    "\n",
    "#min_par = np.power(avg_prod_min,0.5)\n",
    "#max_par = np.power(avg_prod_max,0.5)\n",
    "\n",
    "min_par = np.exp(avg_prod_min)\n",
    "max_par = np.exp(avg_prod_max)\n",
    "\n",
    "#min_par = min(vy)\n",
    "#max_par = max(vy)\n",
    "\n",
    "colors = []\n",
    "for feature in gmap_geo_us_counties['features']:\n",
    "    county_name = feature['properties']['NAME']\n",
    "    county_name = county_name.upper()\n",
    "    try:\n",
    "        #par = np.power(dict_par[county_name],0.5)\n",
    "        par = np.exp(dict_par[county_name])\n",
    "        #par = dict_par[county_name]\n",
    "        color = calculate_color_1(par,min_par,max_par)\n",
    "    except KeyError:\n",
    "        # no value for that county: return default color\n",
    "        #color = (0, 0, 0, 0.3)\n",
    "        color = (0, 0, 0, 0.0)\n",
    "    colors.append(color)\n",
    "\n",
    "fig = gmaps.figure()\n",
    "poverty_layer = gmaps.geojson_layer(gmap_geo_us_counties,fill_color=colors,stroke_color=colors,fill_opacity=0.8)\n",
    "#gini_layer = gmaps.geojson_layer(x,fill_color=colors,stroke_color=colors)\n",
    "fig.add_layer(poverty_layer)\n",
    "fig"
   ]
  },
  {
   "cell_type": "code",
   "execution_count": null,
   "metadata": {},
   "outputs": [],
   "source": [
    "len(gmap_geo_us_counties['features'])"
   ]
  },
  {
   "cell_type": "code",
   "execution_count": null,
   "metadata": {},
   "outputs": [],
   "source": []
  },
  {
   "cell_type": "code",
   "execution_count": null,
   "metadata": {},
   "outputs": [],
   "source": []
  },
  {
   "cell_type": "code",
   "execution_count": null,
   "metadata": {},
   "outputs": [],
   "source": [
    "len(listx)"
   ]
  },
  {
   "cell_type": "code",
   "execution_count": null,
   "metadata": {},
   "outputs": [],
   "source": [
    "len(list_counties)"
   ]
  },
  {
   "cell_type": "code",
   "execution_count": null,
   "metadata": {},
   "outputs": [],
   "source": []
  },
  {
   "cell_type": "code",
   "execution_count": null,
   "metadata": {},
   "outputs": [],
   "source": []
  },
  {
   "cell_type": "code",
   "execution_count": null,
   "metadata": {},
   "outputs": [],
   "source": [
    "avg_prod_min"
   ]
  },
  {
   "cell_type": "code",
   "execution_count": null,
   "metadata": {},
   "outputs": [],
   "source": [
    "avg_prod_max"
   ]
  },
  {
   "cell_type": "code",
   "execution_count": null,
   "metadata": {},
   "outputs": [],
   "source": [
    "list_prod"
   ]
  },
  {
   "cell_type": "code",
   "execution_count": null,
   "metadata": {},
   "outputs": [],
   "source": [
    "list_counties"
   ]
  },
  {
   "cell_type": "code",
   "execution_count": null,
   "metadata": {},
   "outputs": [],
   "source": []
  }
 ],
 "metadata": {
  "kernelspec": {
   "display_name": "Python 3",
   "language": "python",
   "name": "python3"
  },
  "language_info": {
   "codemirror_mode": {
    "name": "ipython",
    "version": 3
   },
   "file_extension": ".py",
   "mimetype": "text/x-python",
   "name": "python",
   "nbconvert_exporter": "python",
   "pygments_lexer": "ipython3",
   "version": "3.7.1"
  }
 },
 "nbformat": 4,
 "nbformat_minor": 2
}
