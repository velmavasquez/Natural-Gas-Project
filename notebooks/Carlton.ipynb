{
 "cells": [
  {
   "cell_type": "code",
   "execution_count": 70,
   "metadata": {},
   "outputs": [
    {
     "data": {
      "text/html": [
       "<div>\n",
       "<style scoped>\n",
       "    .dataframe tbody tr th:only-of-type {\n",
       "        vertical-align: middle;\n",
       "    }\n",
       "\n",
       "    .dataframe tbody tr th {\n",
       "        vertical-align: top;\n",
       "    }\n",
       "\n",
       "    .dataframe thead th {\n",
       "        text-align: right;\n",
       "    }\n",
       "</style>\n",
       "<table border=\"1\" class=\"dataframe\">\n",
       "  <thead>\n",
       "    <tr style=\"text-align: right;\">\n",
       "      <th></th>\n",
       "      <th>State Name</th>\n",
       "      <th>State Code</th>\n",
       "      <th>Subdivision Code</th>\n",
       "      <th>County Name</th>\n",
       "      <th>County Code</th>\n",
       "    </tr>\n",
       "  </thead>\n",
       "  <tbody>\n",
       "    <tr>\n",
       "      <th>0</th>\n",
       "      <td>ALASKA</td>\n",
       "      <td>AK</td>\n",
       "      <td>S</td>\n",
       "      <td>ADAK QUAD</td>\n",
       "      <td>1</td>\n",
       "    </tr>\n",
       "    <tr>\n",
       "      <th>1</th>\n",
       "      <td>ALASKA</td>\n",
       "      <td>AK</td>\n",
       "      <td>S</td>\n",
       "      <td>AFOGNAK QUAD</td>\n",
       "      <td>3</td>\n",
       "    </tr>\n",
       "    <tr>\n",
       "      <th>2</th>\n",
       "      <td>ALASKA</td>\n",
       "      <td>AK</td>\n",
       "      <td>S</td>\n",
       "      <td>AMBLER RIVER QUAD</td>\n",
       "      <td>5</td>\n",
       "    </tr>\n",
       "    <tr>\n",
       "      <th>3</th>\n",
       "      <td>ALASKA</td>\n",
       "      <td>AK</td>\n",
       "      <td>S</td>\n",
       "      <td>AMUKTA QUAD</td>\n",
       "      <td>7</td>\n",
       "    </tr>\n",
       "    <tr>\n",
       "      <th>4</th>\n",
       "      <td>ALASKA</td>\n",
       "      <td>AK</td>\n",
       "      <td>S</td>\n",
       "      <td>ANCHORAGE QUAD</td>\n",
       "      <td>9</td>\n",
       "    </tr>\n",
       "  </tbody>\n",
       "</table>\n",
       "</div>"
      ],
      "text/plain": [
       "  State Name State Code Subdivision Code        County Name  County Code\n",
       "0     ALASKA         AK                S          ADAK QUAD            1\n",
       "1     ALASKA         AK                S       AFOGNAK QUAD            3\n",
       "2     ALASKA         AK                S  AMBLER RIVER QUAD            5\n",
       "3     ALASKA         AK                S        AMUKTA QUAD            7\n",
       "4     ALASKA         AK                S     ANCHORAGE QUAD            9"
      ]
     },
     "execution_count": 70,
     "metadata": {},
     "output_type": "execute_result"
    }
   ],
   "source": [
    "import pandas as pd\n",
    "\n",
    "ccml = \"../data/rawdata/ccml.xlsx\"\n",
    "county_codes = pd.read_excel(open(ccml, 'rb'), sheet_name = 'County_Codes', header = 0)\n",
    "county_codes.head(5)\n"
   ]
  },
  {
   "cell_type": "code",
   "execution_count": 71,
   "metadata": {},
   "outputs": [],
   "source": [
    "county_codes.to_csv(r'../data/cleandata/county_codes.csv')"
   ]
  },
  {
   "cell_type": "code",
   "execution_count": 72,
   "metadata": {},
   "outputs": [
    {
     "name": "stdout",
     "output_type": "stream",
     "text": [
      "Index(['State Name', 'State Code', 'Subdivision Code', 'County Name',\n",
      "       'County Code'],\n",
      "      dtype='object')\n"
     ]
    }
   ],
   "source": [
    "# Get column names\n",
    "column_names = county_codes.columns\n",
    "print(column_names)"
   ]
  },
  {
   "cell_type": "code",
   "execution_count": 73,
   "metadata": {},
   "outputs": [
    {
     "data": {
      "text/plain": [
       "State Name          object\n",
       "State Code          object\n",
       "Subdivision Code    object\n",
       "County Name         object\n",
       "County Code          int64\n",
       "dtype: object"
      ]
     },
     "execution_count": 73,
     "metadata": {},
     "output_type": "execute_result"
    }
   ],
   "source": [
    "# Get column data types\n",
    "county_codes.dtypes"
   ]
  },
  {
   "cell_type": "code",
   "execution_count": 74,
   "metadata": {},
   "outputs": [
    {
     "data": {
      "text/html": [
       "<div>\n",
       "<style scoped>\n",
       "    .dataframe tbody tr th:only-of-type {\n",
       "        vertical-align: middle;\n",
       "    }\n",
       "\n",
       "    .dataframe tbody tr th {\n",
       "        vertical-align: top;\n",
       "    }\n",
       "\n",
       "    .dataframe thead th {\n",
       "        text-align: right;\n",
       "    }\n",
       "</style>\n",
       "<table border=\"1\" class=\"dataframe\">\n",
       "  <thead>\n",
       "    <tr style=\"text-align: right;\">\n",
       "      <th></th>\n",
       "      <th>FIPS</th>\n",
       "      <th>geoid</th>\n",
       "      <th>Stabr</th>\n",
       "      <th>County_Name</th>\n",
       "      <th>Rural_Urban_Continuum_Code_2013</th>\n",
       "      <th>Urban_Influence_2013</th>\n",
       "      <th>Metro_Nonmetro_2013</th>\n",
       "      <th>Metro_Micro_Noncore_2013</th>\n",
       "      <th>oil2000</th>\n",
       "      <th>oil2001</th>\n",
       "      <th>...</th>\n",
       "      <th>gas2005</th>\n",
       "      <th>gas2006</th>\n",
       "      <th>gas2007</th>\n",
       "      <th>gas2008</th>\n",
       "      <th>gas2009</th>\n",
       "      <th>gas2010</th>\n",
       "      <th>gas2011</th>\n",
       "      <th>oil_change_group</th>\n",
       "      <th>gas_change_group</th>\n",
       "      <th>oil_gas_change_group</th>\n",
       "    </tr>\n",
       "  </thead>\n",
       "  <tbody>\n",
       "    <tr>\n",
       "      <th>0</th>\n",
       "      <td>1001</td>\n",
       "      <td>1001</td>\n",
       "      <td>AL</td>\n",
       "      <td>Autauga County</td>\n",
       "      <td>2</td>\n",
       "      <td>2</td>\n",
       "      <td>1</td>\n",
       "      <td>2</td>\n",
       "      <td>0</td>\n",
       "      <td>0</td>\n",
       "      <td>...</td>\n",
       "      <td>0</td>\n",
       "      <td>0</td>\n",
       "      <td>0</td>\n",
       "      <td>0</td>\n",
       "      <td>0</td>\n",
       "      <td>0</td>\n",
       "      <td>0</td>\n",
       "      <td>Status Quo</td>\n",
       "      <td>Status Quo</td>\n",
       "      <td>Status Quo</td>\n",
       "    </tr>\n",
       "    <tr>\n",
       "      <th>1</th>\n",
       "      <td>1003</td>\n",
       "      <td>1003</td>\n",
       "      <td>AL</td>\n",
       "      <td>Baldwin County</td>\n",
       "      <td>3</td>\n",
       "      <td>2</td>\n",
       "      <td>1</td>\n",
       "      <td>2</td>\n",
       "      <td>138072</td>\n",
       "      <td>134666</td>\n",
       "      <td>...</td>\n",
       "      <td>84536875</td>\n",
       "      <td>83951640</td>\n",
       "      <td>82876786</td>\n",
       "      <td>78547145</td>\n",
       "      <td>68525628</td>\n",
       "      <td>63069025</td>\n",
       "      <td>51041072</td>\n",
       "      <td>Status Quo</td>\n",
       "      <td>H_Decline</td>\n",
       "      <td>H_Decline</td>\n",
       "    </tr>\n",
       "    <tr>\n",
       "      <th>2</th>\n",
       "      <td>1005</td>\n",
       "      <td>1005</td>\n",
       "      <td>AL</td>\n",
       "      <td>Barbour County</td>\n",
       "      <td>6</td>\n",
       "      <td>6</td>\n",
       "      <td>0</td>\n",
       "      <td>0</td>\n",
       "      <td>0</td>\n",
       "      <td>0</td>\n",
       "      <td>...</td>\n",
       "      <td>0</td>\n",
       "      <td>0</td>\n",
       "      <td>0</td>\n",
       "      <td>0</td>\n",
       "      <td>0</td>\n",
       "      <td>0</td>\n",
       "      <td>0</td>\n",
       "      <td>Status Quo</td>\n",
       "      <td>Status Quo</td>\n",
       "      <td>Status Quo</td>\n",
       "    </tr>\n",
       "    <tr>\n",
       "      <th>3</th>\n",
       "      <td>1007</td>\n",
       "      <td>1007</td>\n",
       "      <td>AL</td>\n",
       "      <td>Bibb County</td>\n",
       "      <td>1</td>\n",
       "      <td>1</td>\n",
       "      <td>1</td>\n",
       "      <td>2</td>\n",
       "      <td>0</td>\n",
       "      <td>0</td>\n",
       "      <td>...</td>\n",
       "      <td>8301</td>\n",
       "      <td>98853</td>\n",
       "      <td>480015</td>\n",
       "      <td>684143</td>\n",
       "      <td>551719</td>\n",
       "      <td>453132</td>\n",
       "      <td>400504</td>\n",
       "      <td>Status Quo</td>\n",
       "      <td>Status Quo</td>\n",
       "      <td>Status Quo</td>\n",
       "    </tr>\n",
       "    <tr>\n",
       "      <th>4</th>\n",
       "      <td>1009</td>\n",
       "      <td>1009</td>\n",
       "      <td>AL</td>\n",
       "      <td>Blount County</td>\n",
       "      <td>1</td>\n",
       "      <td>1</td>\n",
       "      <td>1</td>\n",
       "      <td>2</td>\n",
       "      <td>0</td>\n",
       "      <td>0</td>\n",
       "      <td>...</td>\n",
       "      <td>0</td>\n",
       "      <td>0</td>\n",
       "      <td>0</td>\n",
       "      <td>20516</td>\n",
       "      <td>61054</td>\n",
       "      <td>3594</td>\n",
       "      <td>21496</td>\n",
       "      <td>Status Quo</td>\n",
       "      <td>Status Quo</td>\n",
       "      <td>Status Quo</td>\n",
       "    </tr>\n",
       "  </tbody>\n",
       "</table>\n",
       "<p>5 rows × 35 columns</p>\n",
       "</div>"
      ],
      "text/plain": [
       "   FIPS  geoid Stabr     County_Name  Rural_Urban_Continuum_Code_2013  \\\n",
       "0  1001   1001    AL  Autauga County                                2   \n",
       "1  1003   1003    AL  Baldwin County                                3   \n",
       "2  1005   1005    AL  Barbour County                                6   \n",
       "3  1007   1007    AL     Bibb County                                1   \n",
       "4  1009   1009    AL   Blount County                                1   \n",
       "\n",
       "   Urban_Influence_2013  Metro_Nonmetro_2013  Metro_Micro_Noncore_2013  \\\n",
       "0                     2                    1                         2   \n",
       "1                     2                    1                         2   \n",
       "2                     6                    0                         0   \n",
       "3                     1                    1                         2   \n",
       "4                     1                    1                         2   \n",
       "\n",
       "   oil2000  oil2001  ...   gas2005   gas2006   gas2007   gas2008   gas2009  \\\n",
       "0        0        0  ...         0         0         0         0         0   \n",
       "1   138072   134666  ...  84536875  83951640  82876786  78547145  68525628   \n",
       "2        0        0  ...         0         0         0         0         0   \n",
       "3        0        0  ...      8301     98853    480015    684143    551719   \n",
       "4        0        0  ...         0         0         0     20516     61054   \n",
       "\n",
       "    gas2010   gas2011  oil_change_group  gas_change_group  \\\n",
       "0         0         0        Status Quo        Status Quo   \n",
       "1  63069025  51041072        Status Quo         H_Decline   \n",
       "2         0         0        Status Quo        Status Quo   \n",
       "3    453132    400504        Status Quo        Status Quo   \n",
       "4      3594     21496        Status Quo        Status Quo   \n",
       "\n",
       "   oil_gas_change_group  \n",
       "0            Status Quo  \n",
       "1             H_Decline  \n",
       "2            Status Quo  \n",
       "3            Status Quo  \n",
       "4            Status Quo  \n",
       "\n",
       "[5 rows x 35 columns]"
      ]
     },
     "execution_count": 74,
     "metadata": {},
     "output_type": "execute_result"
    }
   ],
   "source": [
    "#Open the worksheet oil and gas county production\n",
    "oilgascounty = \"../data/rawdata/oilgascounty.xls\"\n",
    "oilgas_county = pd.read_excel(open(oilgascounty, 'rb'), sheet_name = 'oilgascounty', header = 0)\n",
    "oilgas_county.head(5)"
   ]
  },
  {
   "cell_type": "code",
   "execution_count": 75,
   "metadata": {},
   "outputs": [
    {
     "data": {
      "text/html": [
       "<div>\n",
       "<style scoped>\n",
       "    .dataframe tbody tr th:only-of-type {\n",
       "        vertical-align: middle;\n",
       "    }\n",
       "\n",
       "    .dataframe tbody tr th {\n",
       "        vertical-align: top;\n",
       "    }\n",
       "\n",
       "    .dataframe thead th {\n",
       "        text-align: right;\n",
       "    }\n",
       "</style>\n",
       "<table border=\"1\" class=\"dataframe\">\n",
       "  <thead>\n",
       "    <tr style=\"text-align: right;\">\n",
       "      <th></th>\n",
       "      <th>FIPS</th>\n",
       "      <th>geoid</th>\n",
       "      <th>Stabr</th>\n",
       "      <th>County_Name</th>\n",
       "      <th>Rural_Urban_Continuum_Code_2013</th>\n",
       "      <th>Urban_Influence_2013</th>\n",
       "      <th>Metro_Nonmetro_2013</th>\n",
       "      <th>Metro_Micro_Noncore_2013</th>\n",
       "      <th>gas2000</th>\n",
       "      <th>gas2001</th>\n",
       "      <th>gas2002</th>\n",
       "      <th>gas2003</th>\n",
       "      <th>gas2004</th>\n",
       "      <th>gas2005</th>\n",
       "      <th>gas2006</th>\n",
       "      <th>gas2007</th>\n",
       "      <th>gas2008</th>\n",
       "      <th>gas2009</th>\n",
       "      <th>gas2010</th>\n",
       "      <th>gas2011</th>\n",
       "    </tr>\n",
       "  </thead>\n",
       "  <tbody>\n",
       "    <tr>\n",
       "      <th>0</th>\n",
       "      <td>1001</td>\n",
       "      <td>1001</td>\n",
       "      <td>AL</td>\n",
       "      <td>Autauga County</td>\n",
       "      <td>2</td>\n",
       "      <td>2</td>\n",
       "      <td>1</td>\n",
       "      <td>2</td>\n",
       "      <td>0</td>\n",
       "      <td>0</td>\n",
       "      <td>0</td>\n",
       "      <td>0</td>\n",
       "      <td>0</td>\n",
       "      <td>0</td>\n",
       "      <td>0</td>\n",
       "      <td>0</td>\n",
       "      <td>0</td>\n",
       "      <td>0</td>\n",
       "      <td>0</td>\n",
       "      <td>0</td>\n",
       "    </tr>\n",
       "    <tr>\n",
       "      <th>1</th>\n",
       "      <td>1003</td>\n",
       "      <td>1003</td>\n",
       "      <td>AL</td>\n",
       "      <td>Baldwin County</td>\n",
       "      <td>3</td>\n",
       "      <td>2</td>\n",
       "      <td>1</td>\n",
       "      <td>2</td>\n",
       "      <td>72543902</td>\n",
       "      <td>98699994</td>\n",
       "      <td>107142655</td>\n",
       "      <td>101510068</td>\n",
       "      <td>90146850</td>\n",
       "      <td>84536875</td>\n",
       "      <td>83951640</td>\n",
       "      <td>82876786</td>\n",
       "      <td>78547145</td>\n",
       "      <td>68525628</td>\n",
       "      <td>63069025</td>\n",
       "      <td>51041072</td>\n",
       "    </tr>\n",
       "    <tr>\n",
       "      <th>2</th>\n",
       "      <td>1005</td>\n",
       "      <td>1005</td>\n",
       "      <td>AL</td>\n",
       "      <td>Barbour County</td>\n",
       "      <td>6</td>\n",
       "      <td>6</td>\n",
       "      <td>0</td>\n",
       "      <td>0</td>\n",
       "      <td>0</td>\n",
       "      <td>0</td>\n",
       "      <td>0</td>\n",
       "      <td>0</td>\n",
       "      <td>0</td>\n",
       "      <td>0</td>\n",
       "      <td>0</td>\n",
       "      <td>0</td>\n",
       "      <td>0</td>\n",
       "      <td>0</td>\n",
       "      <td>0</td>\n",
       "      <td>0</td>\n",
       "    </tr>\n",
       "    <tr>\n",
       "      <th>3</th>\n",
       "      <td>1007</td>\n",
       "      <td>1007</td>\n",
       "      <td>AL</td>\n",
       "      <td>Bibb County</td>\n",
       "      <td>1</td>\n",
       "      <td>1</td>\n",
       "      <td>1</td>\n",
       "      <td>2</td>\n",
       "      <td>0</td>\n",
       "      <td>0</td>\n",
       "      <td>0</td>\n",
       "      <td>0</td>\n",
       "      <td>0</td>\n",
       "      <td>8301</td>\n",
       "      <td>98853</td>\n",
       "      <td>480015</td>\n",
       "      <td>684143</td>\n",
       "      <td>551719</td>\n",
       "      <td>453132</td>\n",
       "      <td>400504</td>\n",
       "    </tr>\n",
       "    <tr>\n",
       "      <th>4</th>\n",
       "      <td>1009</td>\n",
       "      <td>1009</td>\n",
       "      <td>AL</td>\n",
       "      <td>Blount County</td>\n",
       "      <td>1</td>\n",
       "      <td>1</td>\n",
       "      <td>1</td>\n",
       "      <td>2</td>\n",
       "      <td>0</td>\n",
       "      <td>0</td>\n",
       "      <td>0</td>\n",
       "      <td>0</td>\n",
       "      <td>0</td>\n",
       "      <td>0</td>\n",
       "      <td>0</td>\n",
       "      <td>0</td>\n",
       "      <td>20516</td>\n",
       "      <td>61054</td>\n",
       "      <td>3594</td>\n",
       "      <td>21496</td>\n",
       "    </tr>\n",
       "  </tbody>\n",
       "</table>\n",
       "</div>"
      ],
      "text/plain": [
       "   FIPS  geoid Stabr     County_Name  Rural_Urban_Continuum_Code_2013  \\\n",
       "0  1001   1001    AL  Autauga County                                2   \n",
       "1  1003   1003    AL  Baldwin County                                3   \n",
       "2  1005   1005    AL  Barbour County                                6   \n",
       "3  1007   1007    AL     Bibb County                                1   \n",
       "4  1009   1009    AL   Blount County                                1   \n",
       "\n",
       "   Urban_Influence_2013  Metro_Nonmetro_2013  Metro_Micro_Noncore_2013  \\\n",
       "0                     2                    1                         2   \n",
       "1                     2                    1                         2   \n",
       "2                     6                    0                         0   \n",
       "3                     1                    1                         2   \n",
       "4                     1                    1                         2   \n",
       "\n",
       "    gas2000   gas2001    gas2002    gas2003   gas2004   gas2005   gas2006  \\\n",
       "0         0         0          0          0         0         0         0   \n",
       "1  72543902  98699994  107142655  101510068  90146850  84536875  83951640   \n",
       "2         0         0          0          0         0         0         0   \n",
       "3         0         0          0          0         0      8301     98853   \n",
       "4         0         0          0          0         0         0         0   \n",
       "\n",
       "    gas2007   gas2008   gas2009   gas2010   gas2011  \n",
       "0         0         0         0         0         0  \n",
       "1  82876786  78547145  68525628  63069025  51041072  \n",
       "2         0         0         0         0         0  \n",
       "3    480015    684143    551719    453132    400504  \n",
       "4         0     20516     61054      3594     21496  "
      ]
     },
     "execution_count": 75,
     "metadata": {},
     "output_type": "execute_result"
    }
   ],
   "source": [
    "oilgas_county.drop(['oil2000', 'oil2001', 'oil2002', 'oil2003', 'oil2004', 'oil2005', 'oil2006', 'oil2007', 'oil2008',\n",
    "                   'oil2009', 'oil2010', 'oil2011', 'oil_change_group', 'gas_change_group', 'oil_gas_change_group'], axis=1,\n",
    "                   inplace=True)\n",
    "oilgas_county.head(5)"
   ]
  },
  {
   "cell_type": "code",
   "execution_count": null,
   "metadata": {},
   "outputs": [],
   "source": [
    "oilgas_county.stack()"
   ]
  },
  {
   "cell_type": "code",
   "execution_count": null,
   "metadata": {},
   "outputs": [],
   "source": [
    "#verify data types\n",
    "oilgas_county.dtypes"
   ]
  },
  {
   "cell_type": "code",
   "execution_count": null,
   "metadata": {},
   "outputs": [],
   "source": [
    "print(oilgas_county.columns)"
   ]
  },
  {
   "cell_type": "code",
   "execution_count": null,
   "metadata": {},
   "outputs": [],
   "source": [
    "#Open the worksheet Anadarko Region production\n",
    "dpr_data = \"../data/rawdata/dpr-data.xlsx\"\n",
    "dpr_anadarko = pd.read_excel(open(dpr_data, 'rb'), sheet_name = 'Anadarko Region', header = 1)\n",
    "dpr_anadarko.insert(loc = 0, column = 'Region', value = 'Anadarko')\n",
    "dpr_anadarko.head(5)"
   ]
  },
  {
   "cell_type": "code",
   "execution_count": null,
   "metadata": {},
   "outputs": [],
   "source": [
    "dpr_anadarko.to_csv(r'../data/cleandata/dpr_anadarko.csv')"
   ]
  },
  {
   "cell_type": "code",
   "execution_count": null,
   "metadata": {},
   "outputs": [],
   "source": [
    "dpr_anadarko.dtypes"
   ]
  },
  {
   "cell_type": "code",
   "execution_count": null,
   "metadata": {},
   "outputs": [],
   "source": [
    "# Open the worksheet Appalachia Region production\n",
    "dpr_appalachia = pd.read_excel(open(dpr_data, 'rb'), sheet_name = 'Appalachia Region', header = 1)\n",
    "dpr_appalachia.insert(loc = 0, column = 'Region', value = 'Appalachia')\n",
    "dpr_appalachia.head(5)"
   ]
  },
  {
   "cell_type": "code",
   "execution_count": null,
   "metadata": {},
   "outputs": [],
   "source": [
    "dpr_appalachia.to_csv(r'../data/cleandata/dpr_appalachia.csv')"
   ]
  },
  {
   "cell_type": "code",
   "execution_count": null,
   "metadata": {},
   "outputs": [],
   "source": [
    "dpr_appalachia.dtypes"
   ]
  },
  {
   "cell_type": "code",
   "execution_count": null,
   "metadata": {},
   "outputs": [],
   "source": [
    "# Open the worksheet Bakken Region production\n",
    "dpr_bakken = pd.read_excel(open(dpr_data, 'rb'), sheet_name = 'Bakken Region', header = 1)\n",
    "dpr_bakken.insert(loc = 0, column = 'Region', value = 'Bakken')\n",
    "dpr_bakken.head(5)"
   ]
  },
  {
   "cell_type": "code",
   "execution_count": null,
   "metadata": {},
   "outputs": [],
   "source": [
    "dpr_bakken.to_csv(r'../data/cleandata/dpr_bakken.csv')"
   ]
  },
  {
   "cell_type": "code",
   "execution_count": null,
   "metadata": {},
   "outputs": [],
   "source": [
    "dpr_bakken.dtypes"
   ]
  },
  {
   "cell_type": "code",
   "execution_count": null,
   "metadata": {},
   "outputs": [],
   "source": [
    "# Open the worksheet Eagle Ford Region production\n",
    "dpr_eagle_ford = pd.read_excel(open(dpr_data, 'rb'), sheet_name = 'Eagle Ford Region', header = 1)\n",
    "dpr_eagle_ford.insert(loc = 0, column = 'Region', value = 'Eagle Ford')\n",
    "dpr_eagle_ford.head(5)"
   ]
  },
  {
   "cell_type": "code",
   "execution_count": null,
   "metadata": {},
   "outputs": [],
   "source": [
    "dpr_eagle_ford.to_csv(r'../data/cleandata/dpr_eagle_ford.csv')"
   ]
  },
  {
   "cell_type": "code",
   "execution_count": null,
   "metadata": {},
   "outputs": [],
   "source": [
    "dpr_eagle_ford.dtypes"
   ]
  },
  {
   "cell_type": "code",
   "execution_count": null,
   "metadata": {},
   "outputs": [],
   "source": [
    "# Open the worksheet Haynesville Region production\n",
    "dpr_haynesville = pd.read_excel(open(dpr_data, 'rb'), sheet_name = 'Haynesville Region', header = 1)\n",
    "dpr_haynesville.insert(loc = 0, column = 'Region', value = 'Haynesville')\n",
    "dpr_haynesville.head(5)"
   ]
  },
  {
   "cell_type": "code",
   "execution_count": null,
   "metadata": {},
   "outputs": [],
   "source": [
    "dpr_haynesville.to_csv(r'../data/cleandata/dpr_haynesville.csv')"
   ]
  },
  {
   "cell_type": "code",
   "execution_count": null,
   "metadata": {},
   "outputs": [],
   "source": [
    "dpr_haynesville.dtypes"
   ]
  },
  {
   "cell_type": "code",
   "execution_count": null,
   "metadata": {},
   "outputs": [],
   "source": [
    "# Open the worksheet Niobrara Region production\n",
    "dpr_niobrara = pd.read_excel(open(dpr_data, 'rb'), sheet_name = 'Niobrara Region', header = 1)\n",
    "dpr_niobrara.insert(loc = 0, column = 'Region', value = 'Niobrara')\n",
    "dpr_niobrara.head(5)"
   ]
  },
  {
   "cell_type": "code",
   "execution_count": null,
   "metadata": {},
   "outputs": [],
   "source": [
    "dpr_niobrara.to_csv(r'../data/cleandata/dpr_niobrara.csv')"
   ]
  },
  {
   "cell_type": "code",
   "execution_count": null,
   "metadata": {},
   "outputs": [],
   "source": [
    "dpr_niobrara.dtypes"
   ]
  },
  {
   "cell_type": "code",
   "execution_count": null,
   "metadata": {},
   "outputs": [],
   "source": [
    "# Open the worksheet Permian Region production\n",
    "dpr_permian = pd.read_excel(open(dpr_data, 'rb'), sheet_name = 'Permian Region', header = 1)\n",
    "dpr_permian.insert(loc = 0, column = 'Region', value = 'Permian')\n",
    "dpr_permian.head(5)"
   ]
  },
  {
   "cell_type": "code",
   "execution_count": null,
   "metadata": {},
   "outputs": [],
   "source": [
    "dpr_permian.to_csv(r'../data/cleandata/dpr_permian.csv')"
   ]
  },
  {
   "cell_type": "code",
   "execution_count": null,
   "metadata": {},
   "outputs": [],
   "source": [
    "dpr_permian.dtypes"
   ]
  },
  {
   "cell_type": "code",
   "execution_count": null,
   "metadata": {},
   "outputs": [],
   "source": [
    "# Open the worksheet Region Counties\n",
    "dpr_region_counties = pd.read_excel(open(dpr_data, 'rb'), sheet_name = 'RegionCounties', header = 0)\n",
    "dpr_region_counties.head(5)"
   ]
  },
  {
   "cell_type": "code",
   "execution_count": null,
   "metadata": {},
   "outputs": [],
   "source": [
    "dpr_region_counties.to_csv(r'../data/cleandata/dpr_region_counties.csv')"
   ]
  },
  {
   "cell_type": "code",
   "execution_count": null,
   "metadata": {},
   "outputs": [],
   "source": [
    "dpr_region_counties.dtypes"
   ]
  },
  {
   "cell_type": "code",
   "execution_count": null,
   "metadata": {},
   "outputs": [],
   "source": [
    "regions = [dpr_anadarko, dpr_appalachia, dpr_bakken, dpr_eagle_ford, dpr_haynesville, dpr_niobrara, dpr_permian]\n",
    "production = pd.concat (regions)\n",
    "production.head"
   ]
  },
  {
   "cell_type": "code",
   "execution_count": null,
   "metadata": {},
   "outputs": [],
   "source": [
    "production.to_csv(r'../data/cleandata/production.csv')"
   ]
  },
  {
   "cell_type": "code",
   "execution_count": null,
   "metadata": {},
   "outputs": [],
   "source": []
  }
 ],
 "metadata": {
  "kernelspec": {
   "display_name": "Python 3",
   "language": "python",
   "name": "python3"
  },
  "language_info": {
   "codemirror_mode": {
    "name": "ipython",
    "version": 3
   },
   "file_extension": ".py",
   "mimetype": "text/x-python",
   "name": "python",
   "nbconvert_exporter": "python",
   "pygments_lexer": "ipython3",
   "version": "3.7.2"
  }
 },
 "nbformat": 4,
 "nbformat_minor": 2
}
